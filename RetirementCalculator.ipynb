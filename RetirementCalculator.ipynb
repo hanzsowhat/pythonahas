{
 "cells": [
  {
   "cell_type": "code",
   "execution_count": 5,
   "id": "30634616-756e-4ec0-a470-40e9e750e352",
   "metadata": {},
   "outputs": [
    {
     "name": "stdout",
     "output_type": "stream",
     "text": [
      "Year 5: Balance = 4208700.84\n",
      "Year 10: Balance = 9481637.72\n",
      "Year 15: Balance = 16248707.02\n",
      "Year 20: Balance = 24933284.14\n",
      "You can retire in 22 years, with a final balance of 30158876.83.\n"
     ]
    }
   ],
   "source": [
    "def calculate_retirement_timeline(monthly_deposit, annual_growth_rate, initial_balance, FIRE_target):\n",
    "    \"\"\"\n",
    "    Calculate the number of years required to reach the FIRE (Financial Independence, Retire Early) target.\n",
    "    \n",
    "    Parameters:\n",
    "    monthly_deposit (float): Monthly deposits from the paycheck (assumed to be made at the end of each month).\n",
    "    annual_growth_rate (float): Annual growth rate of the balance (e.g., 1.05 for 5% growth).\n",
    "    initial_balance (float): Initial amount of money saved.\n",
    "    FIRE_target (float): Desired balance to achieve financial independence (e.g., 30M Pesos).\n",
    "    \n",
    "    Prints:\n",
    "    The number of years required to retire and the final balance.\n",
    "    \"\"\"\n",
    "    months = 0\n",
    "    balance = initial_balance\n",
    "    monthly_growth_rate = (annual_growth_rate - 1) / 12 + 1 \n",
    "    \n",
    "    while balance < FIRE_target:\n",
    "        balance = balance * monthly_growth_rate\n",
    "        balance += monthly_deposit\n",
    "        months += 1\n",
    "\n",
    "        if months % 60 == 0:  \n",
    "            print(f\"Year {months // 12}: Balance = {balance:.2f}\")\n",
    "    \n",
    "    years = months // 12\n",
    "    print(f\"You can retire in {years} years, with a final balance of {balance:.2f}.\")\n",
    "\n",
    "calculate_retirement_timeline(60000, 1.05, 100000, 30000000)"
   ]
  },
  {
   "cell_type": "code",
   "execution_count": 6,
   "id": "1b44929a-1ea7-4e94-b061-156009c51a1b",
   "metadata": {},
   "outputs": [
    {
     "name": "stdout",
     "output_type": "stream",
     "text": [
      "Year 5: Balance = 3400304.14\n",
      "Year 10: Balance = 7764113.97\n",
      "Year 15: Balance = 13364447.19\n",
      "Year 20: Balance = 20551683.43\n",
      "Year 25: Balance = 29775485.42\n",
      "You can retire in 25 years, with a final balance of 30124339.74.\n"
     ]
    }
   ],
   "source": [
    "calculate_retirement_timeline(50000, 1.05, 0, 30000000)"
   ]
  },
  {
   "cell_type": "code",
   "execution_count": null,
   "id": "21e4f295-6b80-43cd-87ab-a29631dcb9c0",
   "metadata": {},
   "outputs": [],
   "source": []
  }
 ],
 "metadata": {
  "kernelspec": {
   "display_name": "Python 3 (ipykernel)",
   "language": "python",
   "name": "python3"
  },
  "language_info": {
   "codemirror_mode": {
    "name": "ipython",
    "version": 3
   },
   "file_extension": ".py",
   "mimetype": "text/x-python",
   "name": "python",
   "nbconvert_exporter": "python",
   "pygments_lexer": "ipython3",
   "version": "3.13.0"
  }
 },
 "nbformat": 4,
 "nbformat_minor": 5
}
